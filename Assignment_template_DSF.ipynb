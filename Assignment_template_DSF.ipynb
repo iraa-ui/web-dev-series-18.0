{
 "cells": [
  {
   "cell_type": "markdown",
   "metadata": {
    "id": "gQSK7iZOyYjl"
   },
   "source": [
    "### Arahan Assignment\n",
    "0. Gunakan dataset student score\n",
    "1. Lakukan proses Exploratory data analysis\n",
    "2. Lakukan feature engineering :\n",
    "- Check Duplicated Data\n",
    "- Check Missing Value Handling\n",
    "- Outlier Analysis\n",
    "3. Lakukan modelling machine learning regression : gunakan minimal 2 model (linear regression, decision tree regressor, atau random forest regressor)\n",
    "4. Lakukan evaluasi model\n",
    "5. Berikan kesimpulan model mana yang terbaik performanya"
   ]
  },
  {
   "cell_type": "code",
   "execution_count": null,
   "metadata": {
    "id": "5N-ANQk2yXtK"
   },
   "outputs": [],
   "source": [
    "# Import libraries and resources\n",
    "import pandas as pd\n",
    "import numpy as np\n",
    "import matplotlib.pyplot as plt\n",
    "import seaborn as sns\n",
    "from sklearn.model_selection import train_test_split\n",
    "from sklearn.linear_model import LinearRegression\n",
    "from sklearn.tree import DecisionTreeRegressor\n",
    "from sklearn.ensemble import RandomForestRegressor\n",
    "from sklearn.metrics import mean_squared_error, r2_score"
   ]
  },
  {
   "cell_type": "code",
   "execution_count": null,
   "metadata": {
    "colab": {
     "base_uri": "https://localhost:8080/",
     "height": 206
    },
    "executionInfo": {
     "elapsed": 192,
     "status": "ok",
     "timestamp": 1727778364120,
     "user": {
      "displayName": "Dwi Nur",
      "userId": "07540229500410499739"
     },
     "user_tz": 420
    },
    "id": "So68k7DpyYJ5",
    "outputId": "03d22b82-aab4-4276-a718-2906dbfa128f"
   },
   "outputs": [],
   "source": [
    "dataset = pd.read_csv('student_scores.csv')\n",
    "dataset.head()"
   ]
  },
  {
   "cell_type": "code",
   "execution_count": null,
   "metadata": {
    "id": "e4fXWlmEiMio"
   },
   "outputs": [],
   "source": [
    "# Exploratory Data Analysis (EDA)\n",
    "print(\"Dataset Overview:/n\", dataset.head())\n",
    "print(\"\\nDataset Info:\\n\")\n",
    "dataset.info()\n",
    "print(\"\\nSummary Statistics:\\n\", dataset.describe())\n"
   ]
  },
  {
   "cell_type": "code",
   "execution_count": null,
   "metadata": {
    "id": "T9GWa9CmiMgP"
   },
   "outputs": [],
   "source": [
    "# Visualizing Data\n",
    "plt.figure(figsize=(8,5))\n",
    "sns.scatterplot(x=dataset['Hours'], y=dataset['Scores'])\n",
    "plt.xlabel('Hours Studied')\n",
    "plt.ylabel('Scores')\n",
    "plt.title('Hours vs Scores')\n",
    "plt.show()"
   ]
  },
  {
   "cell_type": "code",
   "execution_count": 6,
   "metadata": {
    "id": "ME_boq5NiMdw"
   },
   "outputs": [
    {
     "name": "stdout",
     "output_type": "stream",
     "text": [
      "Number of duplicated rows: 0\n"
     ]
    }
   ],
   "source": [
    "# Feature Engineering\n",
    "# Check for duplicates\n",
    "duplicates = dataset.duplicated().sum()\n",
    "print(f\"Number of duplicated rows: {duplicates}\")\n",
    "\n"
   ]
  },
  {
   "cell_type": "code",
   "execution_count": null,
   "metadata": {
    "id": "XgDmKMtriMbQ"
   },
   "outputs": [],
   "source": [
    "# Check for missing values\n",
    "missing_values = dataset.isnull().sum()\n",
    "print(\"\\nMissing Values:\\n\", missing_values)\n",
    "\n",
    "# Outlier Analysis\n",
    "sns.boxplot(data=dataset)\n",
    "plt.show()\n",
    "\n",
    "# Splitting Data into Train and Test\n",
    "X = dataset[['Hours']]\n",
    "y = dataset['Scores']\n",
    "X_train, X_test, y_train, y_test = train_test_split(X, y, test_size=0.2, random_state=42)\n",
    "\n",
    "# Model Training\n",
    "models = {\n",
    "    'Linear Regression': LinearRegression(),\n",
    "    'Decision Tree': DecisionTreeRegressor(random_state=42),\n",
    "    'Random Forest': RandomForestRegressor(n_estimators=100, random_state=42)\n",
    "}\n",
    "\n",
    "results = {}\n",
    "\n",
    "for name, model in models.items():\n",
    "    model.fit(X_train, y_train)\n",
    "    y_pred = model.predict(X_test)\n",
    "    mse = mean_squared_error(y_test, y_pred)\n",
    "    r2 = r2_score(y_test, y_pred)\n",
    "    results[name] = {'MSE': mse, 'R2 Score': r2}\n",
    "    print(f\"\\n{name} Model Performance:\")\n",
    "    print(f\"MSE: {mse:.2f}\")\n",
    "    print(f\"R2 Score: {r2:.2f}\")\n",
    "\n",
    "# Comparing Model Performance\n",
    "results_df = pd.DataFrame(results).T\n",
    "print(\"\\nModel Comparison:\\n\", results_df)"
   ]
  }
 ],
 "metadata": {
  "colab": {
   "provenance": []
  },
  "kernelspec": {
   "display_name": "Python 3",
   "name": "python3"
  },
  "language_info": {
   "codemirror_mode": {
    "name": "ipython",
    "version": 3
   },
   "file_extension": ".py",
   "mimetype": "text/x-python",
   "name": "python",
   "nbconvert_exporter": "python",
   "pygments_lexer": "ipython3",
   "version": "3.10.6"
  }
 },
 "nbformat": 4,
 "nbformat_minor": 0
}
